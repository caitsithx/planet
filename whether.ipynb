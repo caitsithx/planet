{
 "cells": [
  {
   "cell_type": "code",
   "execution_count": 1,
   "metadata": {
    "collapsed": true
   },
   "outputs": [],
   "source": [
    "import numpy as np # linear algebra\n",
    "import pandas as pd # data processing, CSV file I/O (e.g. pd.read_csv)\n",
    "import os, cv2, gc\n",
    "from matplotlib import pyplot as plt\n",
    "from tqdm import tqdm\n",
    "\n",
    "%matplotlib inline"
   ]
  },
  {
   "cell_type": "code",
   "execution_count": 2,
   "metadata": {
    "collapsed": false
   },
   "outputs": [
    {
     "name": "stdout",
     "output_type": "stream",
     "text": [
      "[['train_0' 'haze primary']\n",
      " ['train_1' 'agriculture clear primary water']\n",
      " ['train_2' 'clear primary']\n",
      " ['train_3' 'clear primary']\n",
      " ['train_4' 'agriculture clear habitation primary road']]\n"
     ]
    }
   ],
   "source": [
    "img_size=(128,128)\n",
    "batch_size = 128\n",
    "\n",
    "DATA_DIR = '/home/chicm/data/planet'\n",
    "RESULT_DIR = DATA_DIR+'/results'\n",
    "\n",
    "df_train = pd.read_csv(DATA_DIR+'/train.csv')\n",
    "\n",
    "print(df_train.values[:5])"
   ]
  },
  {
   "cell_type": "code",
   "execution_count": 3,
   "metadata": {
    "collapsed": true
   },
   "outputs": [],
   "source": [
    "labels = ['haze', 'cultivation', 'blooming', 'partly_cloudy', 'habitation', 'primary',\n",
    "            'road', 'agriculture', 'selective_logging', 'artisinal_mine', 'slash_burn',\n",
    "            'blow_down', 'cloudy', 'bare_ground', 'conventional_mine', 'clear', 'water']\n",
    "\n",
    "cloudy_index = 12 \n"
   ]
  },
  {
   "cell_type": "code",
   "execution_count": 4,
   "metadata": {
    "collapsed": false
   },
   "outputs": [],
   "source": [
    "s = set(np.concatenate([i for i in [row.split(' ') for row in df_train['tags'].values]]))"
   ]
  },
  {
   "cell_type": "code",
   "execution_count": 5,
   "metadata": {
    "collapsed": false
   },
   "outputs": [],
   "source": [
    "def get_imgs(tag):\n",
    "    img_fns = []\n",
    "    for f, tags in df_train.values:\n",
    "        if tag in tags.split(' '):\n",
    "            img_fns.append(f)\n",
    "    return img_fns"
   ]
  },
  {
   "cell_type": "code",
   "execution_count": 6,
   "metadata": {
    "collapsed": false
   },
   "outputs": [],
   "source": [
    "cloudy_fns = get_imgs('cloudy')\n",
    "haze_fns = get_imgs('haze')\n",
    "pcloudy_fns = get_imgs('partly_cloudy')\n",
    "clear_fns = get_imgs('clear')"
   ]
  },
  {
   "cell_type": "code",
   "execution_count": 7,
   "metadata": {
    "collapsed": false
   },
   "outputs": [
    {
     "name": "stdout",
     "output_type": "stream",
     "text": [
      "2330\n",
      "2695\n",
      "7251\n",
      "28203\n",
      "40479\n"
     ]
    }
   ],
   "source": [
    "print(len(cloudy_fns))\n",
    "print(len(haze_fns))\n",
    "print(len(pcloudy_fns))\n",
    "print(len(clear_fns))\n",
    "print(len(cloudy_fns) + len(haze_fns) + len(pcloudy_fns) + len(clear_fns))\n"
   ]
  },
  {
   "cell_type": "code",
   "execution_count": 8,
   "metadata": {
    "collapsed": false
   },
   "outputs": [
    {
     "name": "stderr",
     "output_type": "stream",
     "text": [
      "100%|██████████| 2330/2330 [00:02<00:00, 1014.11it/s]\n",
      "  3%|▎         | 222/7251 [00:00<00:03, 2215.32it/s]"
     ]
    },
    {
     "name": "stdout",
     "output_type": "stream",
     "text": [
      "0\n"
     ]
    },
    {
     "name": "stderr",
     "output_type": "stream",
     "text": [
      "100%|██████████| 7251/7251 [00:05<00:00, 1227.86it/s]\n",
      "  2%|▏         | 559/28203 [00:00<00:04, 5584.44it/s]"
     ]
    },
    {
     "name": "stdout",
     "output_type": "stream",
     "text": [
      "0\n"
     ]
    },
    {
     "name": "stderr",
     "output_type": "stream",
     "text": [
      "100%|██████████| 28203/28203 [00:09<00:00, 3068.15it/s]\n",
      "  7%|▋         | 176/2695 [00:00<00:01, 1755.53it/s]"
     ]
    },
    {
     "name": "stdout",
     "output_type": "stream",
     "text": [
      "0\n"
     ]
    },
    {
     "name": "stderr",
     "output_type": "stream",
     "text": [
      "100%|██████████| 2695/2695 [00:02<00:00, 1085.28it/s]"
     ]
    },
    {
     "name": "stdout",
     "output_type": "stream",
     "text": [
      "0\n"
     ]
    },
    {
     "name": "stderr",
     "output_type": "stream",
     "text": [
      "\n"
     ]
    }
   ],
   "source": [
    "count = 0\n",
    "for f in tqdm(cloudy_fns):\n",
    "    if f in haze_fns or f in pcloudy_fns or f in clear_fns:\n",
    "        count += 1\n",
    "print(count)\n",
    "\n",
    "for f in tqdm(pcloudy_fns):\n",
    "    if f in haze_fns or f in cloudy_fns or f in clear_fns:\n",
    "        count += 1\n",
    "print(count)\n",
    "\n",
    "for f in tqdm(clear_fns):\n",
    "    if f in haze_fns or f in cloudy_fns or f in pcloudy_fns:\n",
    "        count += 1\n",
    "print(count)\n",
    "\n",
    "for f in tqdm(haze_fns):\n",
    "    if f in pcloudy_fns or f in cloudy_fns or f in clear_fns:\n",
    "        count += 1\n",
    "print(count)\n",
    "    "
   ]
  },
  {
   "cell_type": "code",
   "execution_count": 9,
   "metadata": {
    "collapsed": true
   },
   "outputs": [],
   "source": [
    "wt_labels = ['cloudy', 'partly_cloudy', 'haze', 'clear']\n",
    "def one_hot(wt):\n",
    "    if wt == 'cloudy':\n",
    "        return [1., 0., 0., 0.]\n",
    "    elif wt == 'partly_cloudy':\n",
    "        return [0., 1., 0., 0.]\n",
    "    elif wt == 'haze':\n",
    "        return [0., 0., 1., 0.]\n",
    "    elif wt == 'clear':\n",
    "        return [0., 0., 0., 1.]\n",
    "    else:\n",
    "        pass"
   ]
  },
  {
   "cell_type": "code",
   "execution_count": 10,
   "metadata": {
    "collapsed": false
   },
   "outputs": [],
   "source": [
    "fns = cloudy_fns + pcloudy_fns + haze_fns + clear_fns[:10000]\n"
   ]
  },
  {
   "cell_type": "code",
   "execution_count": 11,
   "metadata": {
    "collapsed": false
   },
   "outputs": [
    {
     "data": {
      "text/plain": [
       "22276"
      ]
     },
     "execution_count": 11,
     "metadata": {},
     "output_type": "execute_result"
    }
   ],
   "source": [
    "fn_map = {k:'cloudy' for k in cloudy_fns}\n",
    "map2 = {k:'partly_cloudy' for k in pcloudy_fns}\n",
    "map3 = {k:'haze' for k in haze_fns}\n",
    "map4 = {k:'clear' for k in clear_fns[:10000]}\n",
    "fn_map.update(map2)\n",
    "fn_map.update(map3)\n",
    "fn_map.update(map4)\n",
    "len(fn_map)"
   ]
  },
  {
   "cell_type": "markdown",
   "metadata": {},
   "source": [
    "## create validate and training data"
   ]
  },
  {
   "cell_type": "code",
   "execution_count": 12,
   "metadata": {
    "collapsed": false
   },
   "outputs": [
    {
     "name": "stdout",
     "output_type": "stream",
     "text": [
      "3340\n",
      "['train_12', 'train_14']\n",
      "18936\n",
      "['train_5985', 'train_6006']\n"
     ]
    }
   ],
   "source": [
    "val_perc = 0.15\n",
    "train_fns = []\n",
    "val_fns = []\n",
    "for subl in [cloudy_fns, pcloudy_fns, haze_fns, clear_fns[:10000]]:\n",
    "    split = (int)(len(subl)*val_perc)\n",
    "    val_fns.extend(subl[:split])\n",
    "    train_fns.extend(subl[split:])\n",
    "print(len(val_fns))\n",
    "print(val_fns[:2])\n",
    "print(len(train_fns))\n",
    "print(train_fns[:2])\n",
    "\n",
    "\n"
   ]
  },
  {
   "cell_type": "code",
   "execution_count": 13,
   "metadata": {
    "collapsed": false
   },
   "outputs": [
    {
     "name": "stderr",
     "output_type": "stream",
     "text": [
      "100%|██████████| 18936/18936 [00:20<00:00, 931.03it/s]\n"
     ]
    },
    {
     "name": "stdout",
     "output_type": "stream",
     "text": [
      "(18936, 128, 128, 3)\n",
      "(18936, 4)\n"
     ]
    }
   ],
   "source": [
    "train_fns = np.random.permutation(train_fns)\n",
    "val_fns = np.random.permutation(val_fns)\n",
    "\n",
    "x_train = []\n",
    "y_train = []\n",
    "for f in tqdm(train_fns):\n",
    "    fn = DATA_DIR + '/train-jpg/'+f+'.jpg'\n",
    "    img = cv2.imread(fn)\n",
    "    x_train.append(cv2.resize(img, img_size))\n",
    "    y_train.append(one_hot(fn_map[f]))\n",
    "x_train = np.array(x_train, np.float32) / 255.\n",
    "y_train = np.array(y_train, np.float32)\n",
    "print(x_train.shape)\n",
    "print(y_train.shape)\n"
   ]
  },
  {
   "cell_type": "code",
   "execution_count": 14,
   "metadata": {
    "collapsed": false
   },
   "outputs": [
    {
     "name": "stderr",
     "output_type": "stream",
     "text": [
      "100%|██████████| 3340/3340 [00:03<00:00, 1089.22it/s]\n"
     ]
    },
    {
     "name": "stdout",
     "output_type": "stream",
     "text": [
      "(3340, 128, 128, 3)\n",
      "(3340, 4)\n"
     ]
    }
   ],
   "source": [
    "x_val = []\n",
    "y_val = []\n",
    "for f in tqdm(val_fns):\n",
    "    fn = DATA_DIR + '/train-jpg/'+f+'.jpg'\n",
    "    img = cv2.imread(fn)\n",
    "    x_val.append(cv2.resize(img, img_size))\n",
    "    y_val.append(one_hot(fn_map[f]))\n",
    "x_val = np.array(x_val, np.float32) / 255.\n",
    "y_val = np.array(y_val, np.float32)\n",
    "print(x_val.shape)\n",
    "print(y_val.shape)"
   ]
  },
  {
   "cell_type": "code",
   "execution_count": 15,
   "metadata": {
    "collapsed": false
   },
   "outputs": [
    {
     "data": {
      "image/png": "[encoded data removed]",
      "text/plain": [
       "<matplotlib.figure.Figure at 0x7ff90bfade80>"
      ]
     },
     "metadata": {},
     "output_type": "display_data"
    }
   ],
   "source": [
    "plt.figure(figsize=(32,32))\n",
    "for i in range(4):\n",
    "    plt.subplot(1,4,i+1)\n",
    "    plt.imshow(x_train[i+20])\n",
    "    plt.title(y_train[i+20])"
   ]
  },
  {
   "cell_type": "code",
   "execution_count": 16,
   "metadata": {
    "collapsed": false
   },
   "outputs": [
    {
     "name": "stderr",
     "output_type": "stream",
     "text": [
      "Using TensorFlow backend.\n"
     ]
    },
    {
     "name": "stdout",
     "output_type": "stream",
     "text": [
      "[[ 1.  0.  0.]\n",
      " [ 0.  1.  0.]\n",
      " [ 0.  0.  1.]]\n"
     ]
    }
   ],
   "source": [
    "from keras.utils.np_utils import to_categorical\n",
    "t1 = to_categorical([0,1,2])\n",
    "print(t1)"
   ]
  },
  {
   "cell_type": "code",
   "execution_count": 17,
   "metadata": {
    "collapsed": true
   },
   "outputs": [],
   "source": [
    "import bcolz\n",
    "\n",
    "def save_array(fname, arr):\n",
    "    c=bcolz.carray(arr, rootdir=fname, mode='w')\n",
    "    c.flush()\n",
    "def load_array(fname):\n",
    "    return bcolz.open(fname)[:]"
   ]
  },
  {
   "cell_type": "code",
   "execution_count": 18,
   "metadata": {
    "collapsed": true
   },
   "outputs": [],
   "source": [
    "label_map = {l: i for i, l in enumerate(labels)}\n",
    "inv_label_map = {i: l for l, i in label_map.items()}"
   ]
  },
  {
   "cell_type": "markdown",
   "metadata": {},
   "source": [
    "## train whether model"
   ]
  },
  {
   "cell_type": "code",
   "execution_count": 28,
   "metadata": {
    "collapsed": false
   },
   "outputs": [],
   "source": [
    "from keras.models import Sequential\n",
    "from keras.layers import Dense, Dropout, Flatten\n",
    "from keras.layers import Activation\n",
    "from keras.layers import Conv2D, MaxPooling2D\n",
    "from keras.callbacks import EarlyStopping, ModelCheckpoint\n",
    "from keras.optimizers import SGD, RMSprop, Adam\n",
    "from keras.layers.normalization import BatchNormalization\n",
    "from keras.layers.pooling import GlobalAveragePooling2D\n",
    "\n",
    "def get_conv_layers(input_shape):\n",
    "    return [    \n",
    "        Conv2D(32, (3, 3), activation='relu', input_shape=input_shape),\n",
    "        BatchNormalization(axis=-1),\n",
    "        MaxPooling2D(pool_size=(2, 2)),\n",
    "        Conv2D(32, (3, 3), activation='relu'),\n",
    "        BatchNormalization(axis=-1),\n",
    "        MaxPooling2D(pool_size=(2, 2)),\n",
    "        Conv2D(64, (3, 3), activation='relu'),\n",
    "        BatchNormalization(axis=-1),\n",
    "        MaxPooling2D(pool_size=(2, 2)),\n",
    "        Dropout(0.2),\n",
    "        Conv2D(64, (3, 3), activation='relu'),\n",
    "        BatchNormalization(axis=-1),\n",
    "        MaxPooling2D(pool_size=(2, 2)),\n",
    "        Dropout(0.25),\n",
    "        Flatten(),\n",
    "        Dense(128, activation='relu'),\n",
    "        BatchNormalization(),\n",
    "        Dropout(0.4),\n",
    "        Dense(128, activation='relu'),\n",
    "        BatchNormalization(),\n",
    "        Dropout(0.5),\n",
    "        Dense(4, activation='softmax')\n",
    "        \n",
    "        #Conv2D(4, (3,3), activation='relu'),\n",
    "        #BatchNormalization(axis=-1),\n",
    "        #GlobalAveragePooling2D(),\n",
    "        #Dropout(0.4),\n",
    "        #Activation('softmax')\n",
    "    ]\n",
    "\n",
    "def get_conv_model(input_shape):\n",
    "    model = Sequential(get_conv_layers(input_shape))\n",
    "    model.compile(Adam(lr=0.001), loss='categorical_crossentropy', metrics=['accuracy'])\n",
    "    return model"
   ]
  },
  {
   "cell_type": "code",
   "execution_count": 29,
   "metadata": {
    "collapsed": true
   },
   "outputs": [],
   "source": [
    "model = get_conv_model(x_train.shape[1:])"
   ]
  },
  {
   "cell_type": "code",
   "execution_count": 30,
   "metadata": {
    "collapsed": true
   },
   "outputs": [],
   "source": [
    "w_file_name1 = RESULT_DIR + '/wh_1.h5'\n",
    "callback1 = [EarlyStopping(monitor='val_loss', patience=10, verbose=0),\n",
    "            ModelCheckpoint(w_file_name1, monitor='val_loss', save_best_only=True, verbose=0)]"
   ]
  },
  {
   "cell_type": "code",
   "execution_count": 31,
   "metadata": {
    "collapsed": false
   },
   "outputs": [
    {
     "name": "stdout",
     "output_type": "stream",
     "text": [
      "Train on 18936 samples, validate on 3340 samples\n",
      "Epoch 1/20\n",
      "17s - loss: 1.0684 - acc: 0.6211 - val_loss: 2.3053 - val_acc: 0.3557\n",
      "Epoch 2/20\n",
      "16s - loss: 0.6822 - acc: 0.7482 - val_loss: 1.9804 - val_acc: 0.5305\n",
      "Epoch 3/20\n",
      "16s - loss: 0.5506 - acc: 0.8010 - val_loss: 0.8691 - val_acc: 0.7225\n",
      "Epoch 4/20\n",
      "16s - loss: 0.4621 - acc: 0.8297 - val_loss: 0.4168 - val_acc: 0.8479\n",
      "Epoch 5/20\n",
      "16s - loss: 0.4208 - acc: 0.8431 - val_loss: 0.4991 - val_acc: 0.8243\n",
      "Epoch 6/20\n",
      "16s - loss: 0.3901 - acc: 0.8553 - val_loss: 1.0204 - val_acc: 0.6656\n",
      "Epoch 7/20\n",
      "16s - loss: 0.3849 - acc: 0.8544 - val_loss: 1.9893 - val_acc: 0.5081\n",
      "Epoch 8/20\n",
      "16s - loss: 0.3569 - acc: 0.8682 - val_loss: 0.3916 - val_acc: 0.8512\n",
      "Epoch 9/20\n",
      "16s - loss: 0.3530 - acc: 0.8664 - val_loss: 0.5379 - val_acc: 0.7707\n",
      "Epoch 10/20\n",
      "16s - loss: 0.3407 - acc: 0.8717 - val_loss: 0.5822 - val_acc: 0.7605\n",
      "Epoch 11/20\n",
      "16s - loss: 0.3311 - acc: 0.8758 - val_loss: 1.4595 - val_acc: 0.6368\n",
      "Epoch 12/20\n",
      "16s - loss: 0.3215 - acc: 0.8780 - val_loss: 0.3993 - val_acc: 0.8371\n",
      "Epoch 13/20\n",
      "16s - loss: 0.3173 - acc: 0.8804 - val_loss: 0.6860 - val_acc: 0.7539\n",
      "Epoch 14/20\n",
      "17s - loss: 0.3037 - acc: 0.8845 - val_loss: 0.7560 - val_acc: 0.7443\n",
      "Epoch 15/20\n",
      "16s - loss: 0.2996 - acc: 0.8859 - val_loss: 0.5474 - val_acc: 0.7728\n",
      "Epoch 16/20\n",
      "16s - loss: 0.3061 - acc: 0.8841 - val_loss: 0.5239 - val_acc: 0.8102\n",
      "Epoch 17/20\n",
      "16s - loss: 0.2848 - acc: 0.8888 - val_loss: 0.5017 - val_acc: 0.8171\n",
      "Epoch 18/20\n",
      "16s - loss: 0.2782 - acc: 0.8943 - val_loss: 0.4364 - val_acc: 0.8266\n",
      "Epoch 19/20\n",
      "17s - loss: 0.2796 - acc: 0.8938 - val_loss: 0.7212 - val_acc: 0.7225\n"
     ]
    },
    {
     "data": {
      "text/plain": [
       "<keras.callbacks.History at 0x7ff86c7a2d68>"
      ]
     },
     "execution_count": 31,
     "metadata": {},
     "output_type": "execute_result"
    }
   ],
   "source": [
    "model.fit(x=x_train, y=y_train, batch_size=batch_size, epochs = 20, \n",
    "          validation_data=(x_val, y_val), verbose=2, callbacks=callback1)"
   ]
  },
  {
   "cell_type": "code",
   "execution_count": 32,
   "metadata": {
    "collapsed": false
   },
   "outputs": [
    {
     "name": "stdout",
     "output_type": "stream",
     "text": [
      "Train on 18936 samples, validate on 3340 samples\n",
      "Epoch 1/20\n",
      "16s - loss: 0.3199 - acc: 0.8799 - val_loss: 0.2974 - val_acc: 0.8874\n",
      "Epoch 2/20\n",
      "16s - loss: 0.3064 - acc: 0.8845 - val_loss: 0.2855 - val_acc: 0.8877\n",
      "Epoch 3/20\n",
      "16s - loss: 0.2965 - acc: 0.8897 - val_loss: 0.3712 - val_acc: 0.8494\n",
      "Epoch 4/20\n",
      "16s - loss: 0.2990 - acc: 0.8892 - val_loss: 0.3660 - val_acc: 0.8509\n",
      "Epoch 5/20\n",
      "16s - loss: 0.2917 - acc: 0.8905 - val_loss: 0.3886 - val_acc: 0.8461\n",
      "Epoch 6/20\n",
      "16s - loss: 0.2910 - acc: 0.8896 - val_loss: 0.4290 - val_acc: 0.8249\n",
      "Epoch 7/20\n",
      "16s - loss: 0.2838 - acc: 0.8913 - val_loss: 0.2777 - val_acc: 0.8913\n",
      "Epoch 8/20\n",
      "16s - loss: 0.2868 - acc: 0.8904 - val_loss: 0.2766 - val_acc: 0.8934\n",
      "Epoch 9/20\n",
      "16s - loss: 0.2801 - acc: 0.8942 - val_loss: 0.2955 - val_acc: 0.8805\n",
      "Epoch 10/20\n",
      "16s - loss: 0.2780 - acc: 0.8947 - val_loss: 0.2668 - val_acc: 0.8982\n",
      "Epoch 11/20\n",
      "16s - loss: 0.2801 - acc: 0.8923 - val_loss: 0.2941 - val_acc: 0.8895\n",
      "Epoch 12/20\n",
      "16s - loss: 0.2735 - acc: 0.8963 - val_loss: 0.3422 - val_acc: 0.8548\n",
      "Epoch 13/20\n",
      "16s - loss: 0.2731 - acc: 0.8970 - val_loss: 0.2819 - val_acc: 0.8889\n",
      "Epoch 14/20\n",
      "16s - loss: 0.2748 - acc: 0.8956 - val_loss: 0.2953 - val_acc: 0.8811\n",
      "Epoch 15/20\n",
      "16s - loss: 0.2709 - acc: 0.8969 - val_loss: 0.2722 - val_acc: 0.8964\n",
      "Epoch 16/20\n",
      "16s - loss: 0.2659 - acc: 0.8996 - val_loss: 0.2732 - val_acc: 0.8910\n",
      "Epoch 17/20\n",
      "16s - loss: 0.2617 - acc: 0.9003 - val_loss: 0.2811 - val_acc: 0.8907\n",
      "Epoch 18/20\n",
      "16s - loss: 0.2603 - acc: 0.9011 - val_loss: 0.2906 - val_acc: 0.8895\n",
      "Epoch 19/20\n",
      "16s - loss: 0.2566 - acc: 0.9017 - val_loss: 0.3700 - val_acc: 0.8689\n",
      "Epoch 20/20\n",
      "16s - loss: 0.2627 - acc: 0.8983 - val_loss: 0.2762 - val_acc: 0.8979\n"
     ]
    },
    {
     "data": {
      "text/plain": [
       "<keras.callbacks.History at 0x7ff86c77e748>"
      ]
     },
     "execution_count": 32,
     "metadata": {},
     "output_type": "execute_result"
    }
   ],
   "source": [
    "from keras import backend as K\n",
    "model.load_weights(w_file_name1)\n",
    "K.set_value(model.optimizer.lr, 0.0001)\n",
    "w_file_name2 = RESULT_DIR + '/wh_2.h5'\n",
    "callback2 = [EarlyStopping(monitor='val_loss', patience=15, verbose=0),\n",
    "            ModelCheckpoint(w_file_name2, monitor='val_loss', save_best_only=True, verbose=0)]\n",
    "\n",
    "model.fit(x=x_train, y=y_train, batch_size=batch_size, epochs = 20, \n",
    "          validation_data=(x_val, y_val), verbose=2, callbacks = callback2)"
   ]
  },
  {
   "cell_type": "markdown",
   "metadata": {},
   "source": [
    "## Merge whether predicts with other predicts"
   ]
  },
  {
   "cell_type": "code",
   "execution_count": 35,
   "metadata": {
    "collapsed": false
   },
   "outputs": [
    {
     "name": "stdout",
     "output_type": "stream",
     "text": [
      "[[ 0.01041296  0.06117052  0.01875316  0.01498115  0.0084371   0.99447513\n",
      "   0.02619349  0.05540305  0.00763869  0.00288514  0.00382301  0.00421963\n",
      "   0.00177683  0.00960025  0.00163995  0.95134079  0.05712077]\n",
      " [ 0.00192637  0.07143894  0.02871962  0.05925711  0.00554475  0.99649942\n",
      "   0.0132723   0.03751978  0.01634973  0.0026219   0.00273673  0.01487179\n",
      "   0.00153201  0.00298589  0.00154697  0.86738294  0.01148363]]\n"
     ]
    }
   ],
   "source": [
    "PREDICTS_FILE = RESULT_DIR + '/preds'\n",
    "preds = load_array(PREDICTS_FILE)\n",
    "print(preds[:2])"
   ]
  },
  {
   "cell_type": "code",
   "execution_count": 36,
   "metadata": {
    "collapsed": false
   },
   "outputs": [
    {
     "name": "stderr",
     "output_type": "stream",
     "text": [
      "100%|██████████| 40669/40669 [00:43<00:00, 940.21it/s]\n"
     ]
    }
   ],
   "source": [
    "df_test = pd.read_csv(DATA_DIR+'/sample_submission.csv')\n",
    "x_test = []\n",
    "for f, tags in tqdm(df_test.values, miniters=5000):\n",
    "    fn = DATA_DIR+'/test-jpg/'+f+'.jpg'\n",
    "    img = cv2.imread(fn)\n",
    "    x_test.append(cv2.resize(img, img_size))\n",
    "x_test = np.array(x_test, np.float32) / 255."
   ]
  },
  {
   "cell_type": "code",
   "execution_count": 38,
   "metadata": {
    "collapsed": false
   },
   "outputs": [],
   "source": [
    "model.load_weights(w_file_name2)\n",
    "wh_preds = model.predict(x_test, batch_size=128)"
   ]
  },
  {
   "cell_type": "code",
   "execution_count": 40,
   "metadata": {
    "collapsed": false
   },
   "outputs": [
    {
     "name": "stdout",
     "output_type": "stream",
     "text": [
      "[[  1.35541882e-03   1.97933623e-04   4.65415465e-03   9.93792474e-01]\n",
      " [  5.33460814e-04   1.26743282e-03   6.38092868e-04   9.97560978e-01]\n",
      " [  9.58064629e-04   9.99029279e-01   8.82666063e-06   3.81330619e-06]\n",
      " [  3.83611838e-03   9.23232958e-02   4.59800009e-03   8.99242580e-01]\n",
      " [  6.69082701e-01   3.29391271e-01   1.52004207e-03   6.09153994e-06]]\n"
     ]
    }
   ],
   "source": [
    "save_array(RESULT_DIR+'/wh_preds', wh_preds)\n",
    "print(wh_preds[:5])"
   ]
  },
  {
   "cell_type": "code",
   "execution_count": 42,
   "metadata": {
    "collapsed": false
   },
   "outputs": [],
   "source": [
    "wh_preds = load_array(RESULT_DIR+'/wh_preds')\n",
    "\n",
    "for i, row in enumerate(wh_preds):\n",
    "    m = max(row)\n",
    "    for j, e in enumerate(row):\n",
    "        if abs(e-m) < 0.0001:\n",
    "            wh_preds[i][j] = 1.\n",
    "        else:\n",
    "            wh_preds[i][j] = 0."
   ]
  },
  {
   "cell_type": "code",
   "execution_count": 43,
   "metadata": {
    "collapsed": false
   },
   "outputs": [
    {
     "name": "stdout",
     "output_type": "stream",
     "text": [
      "[[ 0.  0.  0.  1.]\n",
      " [ 0.  0.  0.  1.]\n",
      " [ 0.  1.  0.  0.]\n",
      " [ 0.  0.  0.  1.]\n",
      " [ 1.  0.  0.  0.]]\n"
     ]
    }
   ],
   "source": [
    "print(wh_preds[:5])"
   ]
  },
  {
   "cell_type": "code",
   "execution_count": 46,
   "metadata": {
    "collapsed": false
   },
   "outputs": [],
   "source": [
    "labels = ['haze', 'cultivation', 'blooming', 'partly_cloudy', 'habitation', 'primary',\n",
    "            'road', 'agriculture', 'selective_logging', 'artisinal_mine', 'slash_burn',\n",
    "            'blow_down', 'cloudy', 'bare_ground', 'conventional_mine', 'clear', 'water']\n",
    "\n",
    "ix=[0,3,12,15]\n",
    "w_ix = [2, 1, 0, 3]\n",
    "\n",
    "for i, row in enumerate(preds):\n",
    "    for j, index in enumerate(ix):\n",
    "        preds[i][index] = wh_preds[i][w_ix[j]]"
   ]
  },
  {
   "cell_type": "code",
   "execution_count": 48,
   "metadata": {
    "collapsed": false
   },
   "outputs": [
    {
     "name": "stdout",
     "output_type": "stream",
     "text": [
      "[[ 0.          0.06117052  0.01875316  0.          0.0084371   0.99447513\n",
      "   0.02619349  0.05540305  0.00763869  0.00288514  0.00382301  0.00421963\n",
      "   0.          0.00960025  0.00163995  1.          0.05712077]\n",
      " [ 0.          0.07143894  0.02871962  0.          0.00554475  0.99649942\n",
      "   0.0132723   0.03751978  0.01634973  0.0026219   0.00273673  0.01487179\n",
      "   0.          0.00298589  0.00154697  1.          0.01148363]\n",
      " [ 0.          0.01015364  0.00152114  1.          0.00256199  0.99617445\n",
      "   0.01828577  0.02012934  0.00182815  0.00184112  0.00310062  0.00259925\n",
      "   0.          0.00204873  0.00179134  0.          0.05464028]\n",
      " [ 0.          0.09884592  0.02972267  0.          0.00800206  0.9978556\n",
      "   0.03859733  0.11364193  0.01726036  0.00213463  0.00413661  0.01054293\n",
      "   0.          0.0047776   0.00157322  1.          0.03137597]\n",
      " [ 0.          0.0100452   0.00156985  0.          0.00631431  0.95300895\n",
      "   0.01705413  0.04250793  0.00166148  0.00160695  0.00184463  0.00168691\n",
      "   1.          0.00344444  0.00175894  0.          0.12776953]]\n"
     ]
    }
   ],
   "source": [
    "print(preds[:5])"
   ]
  },
  {
   "cell_type": "code",
   "execution_count": 49,
   "metadata": {
    "collapsed": false
   },
   "outputs": [
    {
     "name": "stderr",
     "output_type": "stream",
     "text": [
      "100%|██████████| 40669/40669 [00:57<00:00, 706.46it/s]"
     ]
    },
    {
     "name": "stdout",
     "output_type": "stream",
     "text": [
      "       image_name                                               tags\n",
      "0          test_0                                      primary clear\n",
      "1          test_1                                      primary clear\n",
      "2          test_2                              partly_cloudy primary\n",
      "3          test_3                                      primary clear\n",
      "4          test_4                                     primary cloudy\n",
      "5          test_5                                      primary clear\n",
      "6          test_6  cultivation partly_cloudy habitation primary r...\n",
      "7          test_7    habitation primary road agriculture clear water\n",
      "8          test_8                                      primary clear\n",
      "9          test_9                           haze primary agriculture\n",
      "10        test_10            partly_cloudy primary agriculture water\n",
      "11        test_11              cultivation primary agriculture clear\n",
      "12        test_12                                             cloudy\n",
      "13        test_13                     primary road agriculture clear\n",
      "14        test_14                                      primary clear\n",
      "15        test_15                                      primary clear\n",
      "16        test_16  cultivation habitation primary road agricultur...\n",
      "17        test_17                              partly_cloudy primary\n",
      "18        test_18                                      primary clear\n",
      "19        test_19                           primary road clear water\n",
      "20        test_20                    primary agriculture clear water\n",
      "21        test_21         habitation primary agriculture clear water\n",
      "22        test_22    habitation primary road agriculture clear water\n",
      "23        test_23                                             cloudy\n",
      "24        test_24            partly_cloudy primary agriculture water\n",
      "25        test_25                                      primary clear\n",
      "26        test_26             partly_cloudy primary road agriculture\n",
      "27        test_27                     primary road agriculture clear\n",
      "28        test_28               primary road agriculture clear water\n",
      "29        test_29                                      primary clear\n",
      "...           ...                                                ...\n",
      "40639  test_40639                                      primary clear\n",
      "40640  test_40640                              partly_cloudy primary\n",
      "40641  test_40641   cultivation primary road agriculture clear water\n",
      "40642  test_40642    habitation primary road agriculture clear water\n",
      "40643  test_40643      cultivation partly_cloudy primary agriculture\n",
      "40644  test_40644                                      primary clear\n",
      "40645  test_40645                                             cloudy\n",
      "40646  test_40646                                      primary clear\n",
      "40647  test_40647                                      primary clear\n",
      "40648  test_40648                                      primary clear\n",
      "40649  test_40649            partly_cloudy primary agriculture water\n",
      "40650  test_40650                      haze primary road agriculture\n",
      "40651  test_40651                                      primary clear\n",
      "40652  test_40652                haze primary road agriculture water\n",
      "40653  test_40653                                      primary clear\n",
      "40654  test_40654    habitation primary road agriculture clear water\n",
      "40655  test_40655                                      primary clear\n",
      "40656  test_40656    habitation primary road agriculture clear water\n",
      "40657  test_40657                                      primary clear\n",
      "40658  test_40658          habitation primary road agriculture clear\n",
      "40659  test_40659  cultivation partly_cloudy primary agriculture ...\n",
      "40660  test_40660                                      primary clear\n",
      "40661  test_40661                    primary agriculture clear water\n",
      "40662  test_40662   cultivation primary road agriculture clear water\n",
      "40663  test_40663                                primary clear water\n",
      "40664  test_40664                                      primary clear\n",
      "40665  test_40665                    primary agriculture clear water\n",
      "40666  test_40666              cultivation primary agriculture clear\n",
      "40667  test_40667                        partly_cloudy primary water\n",
      "40668  test_40668                                      primary clear\n",
      "\n",
      "[40669 rows x 2 columns]\n"
     ]
    },
    {
     "name": "stderr",
     "output_type": "stream",
     "text": [
      "\n"
     ]
    }
   ],
   "source": [
    "result = pd.DataFrame(preds, columns=labels)\n",
    "\n",
    "pred_tags = []\n",
    "for i in tqdm(range(result.shape[0]), miniters=1000):\n",
    "    a = result.ix[[i]]\n",
    "    a = a.apply(lambda x: x > 0.188, axis=1)\n",
    "    a = a.transpose()\n",
    "    a = a.loc[a[i] == True]\n",
    "    ' '.join(list(a.index))\n",
    "    pred_tags.append(' '.join(list(a.index)))\n",
    "df_test['tags'] = pred_tags\n",
    "print(df_test)\n",
    "df_test.to_csv(RESULT_DIR+'/sub_weather1.csv', index=False)"
   ]
  },
  {
   "cell_type": "markdown",
   "metadata": {
    "collapsed": true
   },
   "source": [
    "## try fine tune VGG"
   ]
  },
  {
   "cell_type": "code",
   "execution_count": 19,
   "metadata": {
    "collapsed": true
   },
   "outputs": [],
   "source": [
    "from keras import applications\n",
    "\n",
    "def get_keras_vgg_model():\n",
    "    model = applications.VGG16(include_top=False, weights='imagenet')\n",
    "    return model"
   ]
  },
  {
   "cell_type": "code",
   "execution_count": 20,
   "metadata": {
    "collapsed": false
   },
   "outputs": [
    {
     "name": "stdout",
     "output_type": "stream",
     "text": [
      "(18936, 8, 8, 512)\n",
      "(3340, 8, 8, 512)\n"
     ]
    }
   ],
   "source": [
    "vgg = get_keras_vgg_model()\n",
    "\n",
    "train_feat = vgg.predict(x_train)\n",
    "val_feat = vgg.predict(x_val)\n",
    "print(train_feat.shape)\n",
    "print(val_feat.shape)\n"
   ]
  },
  {
   "cell_type": "code",
   "execution_count": null,
   "metadata": {
    "collapsed": true
   },
   "outputs": [],
   "source": []
  },
  {
   "cell_type": "code",
   "execution_count": 21,
   "metadata": {
    "collapsed": true
   },
   "outputs": [],
   "source": [
    "save_array(RESULT_DIR+'/vgg_train_feats.dat', train_feat)\n",
    "save_array(RESULT_DIR+'/vgg_val_feats.dat', val_feat)\n",
    "save_array(RESULT_DIR+'/y_train.dat', y_train)\n",
    "save_array(RESULT_DIR+'/y_val.dat', y_val)"
   ]
  },
  {
   "cell_type": "code",
   "execution_count": 22,
   "metadata": {
    "collapsed": true
   },
   "outputs": [],
   "source": [
    "train_feat = load_array(RESULT_DIR+'/vgg_train_feats.dat')\n",
    "val_feat = load_array(RESULT_DIR+'/vgg_val_feats.dat')\n",
    "y_train = load_array(RESULT_DIR+'/y_train.dat')\n",
    "y_val = load_array(RESULT_DIR+'/y_val.dat')"
   ]
  },
  {
   "cell_type": "code",
   "execution_count": 33,
   "metadata": {
    "collapsed": false
   },
   "outputs": [],
   "source": [
    "from keras.models import Sequential\n",
    "from keras.layers import Dense, Dropout, Flatten\n",
    "from keras.layers import Activation\n",
    "from keras.layers import Conv2D, MaxPooling2D\n",
    "from keras.callbacks import EarlyStopping, ModelCheckpoint\n",
    "from keras.optimizers import SGD, RMSprop, Adam\n",
    "from keras.layers.normalization import BatchNormalization\n",
    "from keras.layers.pooling import GlobalAveragePooling2D\n",
    "\n",
    "def get_dense_layers(input_shape):\n",
    "    return [\n",
    "        Flatten(input_shape=input_shape),\n",
    "        Dropout(0.3),\n",
    "        Dense(256, activation='relu'),\n",
    "        BatchNormalization(),\n",
    "        Dropout(0.5),\n",
    "        Dense(256, activation='relu'),\n",
    "        BatchNormalization(),\n",
    "        Dropout(0.6),\n",
    "        Dense(4, activation='softmax')\n",
    "    ]\n",
    "\n",
    "def get_dense_model(input_shape):\n",
    "    model = Sequential(get_dense_layers(input_shape))\n",
    "    model.compile(Adam(), loss = 'categorical_crossentropy', metrics=['accuracy'])\n",
    "    return model"
   ]
  },
  {
   "cell_type": "code",
   "execution_count": 34,
   "metadata": {
    "collapsed": false
   },
   "outputs": [],
   "source": [
    "dense_model = get_dense_model(train_feat.shape[1:])"
   ]
  },
  {
   "cell_type": "code",
   "execution_count": 35,
   "metadata": {
    "collapsed": false
   },
   "outputs": [
    {
     "name": "stdout",
     "output_type": "stream",
     "text": [
      "Train on 18936 samples, validate on 3340 samples\n",
      "Epoch 1/10\n",
      "9s - loss: 1.0069 - acc: 0.6246 - val_loss: 0.5752 - val_acc: 0.7596\n",
      "Epoch 2/10\n",
      "10s - loss: 0.6934 - acc: 0.7191 - val_loss: 0.5320 - val_acc: 0.7722\n",
      "Epoch 3/10\n",
      "9s - loss: 0.6381 - acc: 0.7412 - val_loss: 0.5049 - val_acc: 0.7835\n",
      "Epoch 4/10\n",
      "10s - loss: 0.6094 - acc: 0.7518 - val_loss: 0.5097 - val_acc: 0.7898\n",
      "Epoch 5/10\n",
      "9s - loss: 0.5972 - acc: 0.7576 - val_loss: 0.4866 - val_acc: 0.7991\n",
      "Epoch 6/10\n",
      "9s - loss: 0.5900 - acc: 0.7621 - val_loss: 0.4826 - val_acc: 0.8045\n",
      "Epoch 7/10\n",
      "9s - loss: 0.5681 - acc: 0.7682 - val_loss: 0.4815 - val_acc: 0.8084\n",
      "Epoch 8/10\n",
      "9s - loss: 0.5604 - acc: 0.7725 - val_loss: 0.4892 - val_acc: 0.7970\n",
      "Epoch 9/10\n",
      "9s - loss: 0.5626 - acc: 0.7745 - val_loss: 0.5321 - val_acc: 0.7760\n",
      "Epoch 10/10\n",
      "9s - loss: 0.5546 - acc: 0.7792 - val_loss: 0.4797 - val_acc: 0.8036\n"
     ]
    },
    {
     "data": {
      "text/plain": [
       "<keras.callbacks.History at 0x7f4d00d42630>"
      ]
     },
     "execution_count": 35,
     "metadata": {},
     "output_type": "execute_result"
    }
   ],
   "source": [
    "dense_model.fit(train_feat, y_train, validation_data=(val_feat, y_val), epochs = 10, verbose=2)"
   ]
  },
  {
   "cell_type": "code",
   "execution_count": 36,
   "metadata": {
    "collapsed": false
   },
   "outputs": [
    {
     "name": "stdout",
     "output_type": "stream",
     "text": [
      "Train on 18936 samples, validate on 3340 samples\n",
      "Epoch 1/5\n",
      "9s - loss: 0.7322 - acc: 0.7063 - val_loss: 0.5405 - val_acc: 0.7790\n",
      "Epoch 2/5\n",
      "9s - loss: 0.6439 - acc: 0.7376 - val_loss: 0.5277 - val_acc: 0.7883\n",
      "Epoch 3/5\n",
      "9s - loss: 0.6241 - acc: 0.7476 - val_loss: 0.5198 - val_acc: 0.7973\n",
      "Epoch 4/5\n",
      "9s - loss: 0.6144 - acc: 0.7552 - val_loss: 0.5518 - val_acc: 0.7805\n",
      "Epoch 5/5\n",
      "9s - loss: 0.6053 - acc: 0.7595 - val_loss: 0.5084 - val_acc: 0.7931\n"
     ]
    },
    {
     "data": {
      "text/plain": [
       "<keras.callbacks.History at 0x7f4d00ccb4e0>"
      ]
     },
     "execution_count": 36,
     "metadata": {},
     "output_type": "execute_result"
    }
   ],
   "source": [
    "from keras import backend as K\n",
    "K.set_value(dense_model.optimizer.lr, 0.01)\n",
    "dense_model.fit(train_feat, y_train, validation_data=(val_feat, y_val), epochs = 5, verbose=2)"
   ]
  },
  {
   "cell_type": "code",
   "execution_count": null,
   "metadata": {
    "collapsed": false
   },
   "outputs": [
    {
     "name": "stdout",
     "output_type": "stream",
     "text": [
      "Train on 18936 samples, validate on 3340 samples\n",
      "Epoch 1/50\n",
      "9s - loss: 0.5790 - acc: 0.7682 - val_loss: 0.4817 - val_acc: 0.8075\n",
      "Epoch 2/50\n",
      "9s - loss: 0.5733 - acc: 0.7695 - val_loss: 0.4818 - val_acc: 0.8075\n",
      "Epoch 3/50\n",
      "10s - loss: 0.5754 - acc: 0.7729 - val_loss: 0.4806 - val_acc: 0.8084\n",
      "Epoch 4/50\n",
      "9s - loss: 0.5742 - acc: 0.7705 - val_loss: 0.4802 - val_acc: 0.8069\n",
      "Epoch 5/50\n",
      "8s - loss: 0.5744 - acc: 0.7727 - val_loss: 0.4802 - val_acc: 0.8078\n",
      "Epoch 6/50\n",
      "9s - loss: 0.5715 - acc: 0.7736 - val_loss: 0.4796 - val_acc: 0.8057\n",
      "Epoch 7/50\n",
      "9s - loss: 0.5702 - acc: 0.7745 - val_loss: 0.4777 - val_acc: 0.8108\n",
      "Epoch 8/50\n",
      "9s - loss: 0.5714 - acc: 0.7695 - val_loss: 0.4786 - val_acc: 0.8078\n",
      "Epoch 9/50\n",
      "9s - loss: 0.5698 - acc: 0.7734 - val_loss: 0.4788 - val_acc: 0.8087\n",
      "Epoch 10/50\n",
      "11s - loss: 0.5706 - acc: 0.7706 - val_loss: 0.4773 - val_acc: 0.8090\n",
      "Epoch 11/50\n",
      "9s - loss: 0.5655 - acc: 0.7729 - val_loss: 0.4771 - val_acc: 0.8093\n",
      "Epoch 12/50\n",
      "9s - loss: 0.5728 - acc: 0.7723 - val_loss: 0.4780 - val_acc: 0.8096\n",
      "Epoch 13/50\n",
      "9s - loss: 0.5619 - acc: 0.7771 - val_loss: 0.4766 - val_acc: 0.8084\n",
      "Epoch 14/50\n",
      "8s - loss: 0.5584 - acc: 0.7784 - val_loss: 0.4774 - val_acc: 0.8087\n",
      "Epoch 15/50\n",
      "9s - loss: 0.5620 - acc: 0.7764 - val_loss: 0.4763 - val_acc: 0.8096\n",
      "Epoch 16/50\n",
      "8s - loss: 0.5685 - acc: 0.7727 - val_loss: 0.4766 - val_acc: 0.8099\n",
      "Epoch 17/50\n",
      "9s - loss: 0.5605 - acc: 0.7793 - val_loss: 0.4762 - val_acc: 0.8108\n",
      "Epoch 18/50\n",
      "8s - loss: 0.5612 - acc: 0.7759 - val_loss: 0.4753 - val_acc: 0.8096\n",
      "Epoch 19/50\n",
      "9s - loss: 0.5624 - acc: 0.7779 - val_loss: 0.4752 - val_acc: 0.8090\n",
      "Epoch 20/50\n",
      "8s - loss: 0.5552 - acc: 0.7798 - val_loss: 0.4758 - val_acc: 0.8114\n",
      "Epoch 21/50\n",
      "9s - loss: 0.5598 - acc: 0.7753 - val_loss: 0.4743 - val_acc: 0.8099\n",
      "Epoch 22/50\n",
      "8s - loss: 0.5600 - acc: 0.7770 - val_loss: 0.4741 - val_acc: 0.8096\n",
      "Epoch 23/50\n",
      "8s - loss: 0.5564 - acc: 0.7768 - val_loss: 0.4756 - val_acc: 0.8090\n",
      "Epoch 24/50\n",
      "9s - loss: 0.5595 - acc: 0.7752 - val_loss: 0.4752 - val_acc: 0.8108\n",
      "Epoch 25/50\n",
      "8s - loss: 0.5561 - acc: 0.7781 - val_loss: 0.4744 - val_acc: 0.8114\n",
      "Epoch 26/50\n",
      "8s - loss: 0.5664 - acc: 0.7759 - val_loss: 0.4739 - val_acc: 0.8108\n",
      "Epoch 27/50\n",
      "8s - loss: 0.5565 - acc: 0.7797 - val_loss: 0.4737 - val_acc: 0.8105\n",
      "Epoch 28/50\n",
      "8s - loss: 0.5550 - acc: 0.7797 - val_loss: 0.4733 - val_acc: 0.8108\n",
      "Epoch 29/50\n",
      "9s - loss: 0.5565 - acc: 0.7767 - val_loss: 0.4738 - val_acc: 0.8117\n",
      "Epoch 30/50\n",
      "9s - loss: 0.5567 - acc: 0.7802 - val_loss: 0.4724 - val_acc: 0.8120\n",
      "Epoch 31/50\n",
      "9s - loss: 0.5523 - acc: 0.7804 - val_loss: 0.4732 - val_acc: 0.8114\n",
      "Epoch 32/50\n",
      "8s - loss: 0.5541 - acc: 0.7761 - val_loss: 0.4727 - val_acc: 0.8111\n",
      "Epoch 33/50\n",
      "9s - loss: 0.5525 - acc: 0.7812 - val_loss: 0.4730 - val_acc: 0.8120\n",
      "Epoch 34/50\n",
      "8s - loss: 0.5542 - acc: 0.7802 - val_loss: 0.4732 - val_acc: 0.8105\n",
      "Epoch 35/50\n",
      "8s - loss: 0.5553 - acc: 0.7799 - val_loss: 0.4721 - val_acc: 0.8120\n",
      "Epoch 36/50\n",
      "8s - loss: 0.5571 - acc: 0.7811 - val_loss: 0.4730 - val_acc: 0.8102\n",
      "Epoch 37/50\n",
      "8s - loss: 0.5518 - acc: 0.7797 - val_loss: 0.4716 - val_acc: 0.8114\n",
      "Epoch 38/50\n",
      "8s - loss: 0.5469 - acc: 0.7840 - val_loss: 0.4714 - val_acc: 0.8114\n",
      "Epoch 39/50\n",
      "8s - loss: 0.5501 - acc: 0.7833 - val_loss: 0.4723 - val_acc: 0.8108\n",
      "Epoch 40/50\n",
      "8s - loss: 0.5564 - acc: 0.7787 - val_loss: 0.4723 - val_acc: 0.8105\n",
      "Epoch 41/50\n",
      "8s - loss: 0.5533 - acc: 0.7807 - val_loss: 0.4709 - val_acc: 0.8120\n",
      "Epoch 42/50\n"
     ]
    }
   ],
   "source": [
    "\n",
    "K.set_value(dense_model.optimizer.lr, 0.00001)\n",
    "\n",
    "w_vgg_fn = RESULT_DIR + '/vgg_dense_1.h5'\n",
    "dense_callbacks = [EarlyStopping(monitor='val_loss', patience=15, verbose=0),\n",
    "            ModelCheckpoint(w_vgg_fn, monitor='val_loss', save_best_only=True, verbose=0)]\n",
    "\n",
    "dense_model.fit(train_feat, y_train, validation_data=(val_feat, y_val), epochs = 50, \n",
    "                verbose=2, callbacks=dense_callbacks)\n"
   ]
  }
 ],
 "metadata": {
  "kernelspec": {
   "display_name": "Python 3",
   "language": "python",
   "name": "python3"
  },
  "language_info": {
   "codemirror_mode": {
    "name": "ipython",
    "version": 3
   },
   "file_extension": ".py",
   "mimetype": "text/x-python",
   "name": "python",
   "nbconvert_exporter": "python",
   "pygments_lexer": "ipython3",
   "version": "3.6.0"
  }
 },
 "nbformat": 4,
 "nbformat_minor": 2
}
